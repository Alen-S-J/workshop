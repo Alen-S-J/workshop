{
 "cells": [
  {
   "cell_type": "markdown",
   "metadata": {},
   "source": [
    "# Python Programming Workshop\n"
   ]
  },
  {
   "cell_type": "markdown",
   "metadata": {},
   "source": [
    "## What is Python?\n",
    "\n",
    "Python is a high-level, interpreted programming language known for its simplicity and readability. It was created by Guido van Rossum and first released in 1991. Python supports multiple programming paradigms, including procedural, object-oriented, and functional programming. It has a comprehensive standard library and a vast ecosystem of third-party packages, making it suitable for a wide range of applications, from web development and data analysis to artificial intelligence and scientific computing.\n",
    "\n",
    "Some key features of Python include:\n",
    "\n",
    "1. **Readability**: Python's syntax is designed to be easy to read and understand, which makes it particularly popular among beginners and experienced programmers alike.\n",
    "\n",
    "2. **Dynamic Typing**: Python uses dynamic typing, meaning you don't need to specify variable types explicitly. This can lead to more concise code but may also require careful attention to variable types during development.\n",
    "\n",
    "3. **Interpreted**: Python code is executed line by line by an interpreter, which means there's no need for compilation before running the code. This makes development and debugging faster and more interactive.\n",
    "\n",
    "4. **Extensive Standard Library**: Python comes with a large standard library that provides modules and functions for performing various tasks, such as file I/O, networking, and data manipulation, without requiring additional installations.\n",
    "\n",
    "link:https://pypi.org/\n",
    "\n",
    "5. **Community and Ecosystem**: Python has a large and active community of developers who contribute to its growth and maintenance. There's also a rich ecosystem of third-party libraries and frameworks that extend Python's capabilities for specific domains and applications.\n",
    "\n",
    "link:https://www.python.org/community/\n"
   ]
  },
  {
   "cell_type": "markdown",
   "metadata": {},
   "source": [
    "## Why Python?\n",
    "\n",
    "- Python works on different platforms (Windows, Mac, Linux, Raspberry Pi, etc).\n",
    "- Python has a simple syntax similar to the English language.\n",
    "- Python has syntax that allows developers to write programs with fewer lines than some other programming languages.\n",
    "- Python runs on an interpreter system, meaning that code can be executed as soon as it is written. This means that prototyping can be very quick.\n",
    "- Python can be treated in a procedural way, an object-oriented way or a functional way.\n"
   ]
  },
  {
   "cell_type": "markdown",
   "metadata": {},
   "source": [
    "### Python Syntax compared to other programming languages\n",
    "\n",
    "- Python was designed for readability, and has some similarities to the English language with influence from mathematics.\n",
    "- Python uses new lines to complete a command, as opposed to other programming languages which often use semicolons or parentheses.\n",
    "- Python relies on indentation, using whitespace, to define scope; such as the scope of loops, functions and classes. Other programming languages often use curly-brackets for this purpose.\n"
   ]
  },
  {
   "cell_type": "markdown",
   "metadata": {},
   "source": [
    "### first code in python\n",
    "\n",
    "With our \"Try it Yourself\" editor, you can edit Python code and view the result.\n"
   ]
  },
  {
   "cell_type": "code",
   "execution_count": null,
   "metadata": {},
   "outputs": [],
   "source": [
    "print(\"Hello World!\")"
   ]
  },
  {
   "cell_type": "code",
   "execution_count": null,
   "metadata": {},
   "outputs": [],
   "source": [
    "# add your Name \n",
    "print('_your_name_')"
   ]
  },
  {
   "cell_type": "markdown",
   "metadata": {},
   "source": [
    "## Indentation(adding some space)\n",
    "\n",
    "Indentation refers to the spaces at the beginning of a code line.\n",
    "\n",
    "Where in other programming languages the indentation in code is for readability only, the indentation in Python is very important.\n",
    "\n",
    "Python uses indentation to indicate a block of code.\n"
   ]
  },
  {
   "cell_type": "markdown",
   "metadata": {},
   "source": [
    "### Python Comments\n",
    "\n",
    "Comments can be used to explain Python code.\n",
    "\n",
    "Comments can be used to make the code more readable.\n",
    "\n",
    "Comments can be used to prevent execution when testing code.\n"
   ]
  },
  {
   "cell_type": "markdown",
   "metadata": {},
   "source": [
    "#### Creating a Comment\n",
    "\n",
    "Comments starts with a #, and Python will ignore them:\n"
   ]
  },
  {
   "cell_type": "code",
   "execution_count": null,
   "metadata": {},
   "outputs": [],
   "source": [
    "#This is a comment\n",
    "print(\"Hello, World!\")"
   ]
  },
  {
   "cell_type": "markdown",
   "metadata": {},
   "source": [
    "Comments can be placed at the end of a line, and Python will ignore the rest of the line:\n"
   ]
  },
  {
   "cell_type": "markdown",
   "metadata": {},
   "source": [
    "### Multiline Comments\n",
    "\n",
    "Python does not really have a syntax for multiline comments.\n",
    "\n",
    "To add a multiline comment you could insert a # for each line:Multiline Comments\n",
    "Python does not really have a syntax for multiline comments.\n",
    "\n",
    "To add a multiline comment you could insert a # for each line:\n"
   ]
  },
  {
   "cell_type": "code",
   "execution_count": null,
   "metadata": {},
   "outputs": [],
   "source": [
    "#This is a comment\n",
    "#written in\n",
    "#more than just one line\n",
    "print(\"Hello, World!\")"
   ]
  },
  {
   "cell_type": "markdown",
   "metadata": {},
   "source": [
    "## Python Docstring\n"
   ]
  },
  {
   "cell_type": "markdown",
   "metadata": {},
   "source": [
    "Python documentation strings (or docstrings) provide a convenient way of associating documentation with Python modules, functions, classes, and methods. It’s specified in source code that is used, like a comment, to document a specific segment of code. Unlike conventional source code comments, the docstring should describe what the function does, not how.\n",
    "\n",
    "Declaring Docstrings: The docstrings are declared using ”’triple single quotes”’ or “”” triple double quotes “”” just below the class, method, or function declaration. All functions should have a docstring.\n",
    "Accessing Docstrings: The docstrings can be accessed using the **doc** method of the object or using the help function. The below examples demonstrate how to declare and access a docstring.\n"
   ]
  },
  {
   "cell_type": "code",
   "execution_count": null,
   "metadata": {},
   "outputs": [],
   "source": [
    "\"\"\"fhdfkjghdfjgdfjkhg\"\"\"\n",
    "\n",
    "\n",
    "print(__doc__)"
   ]
  },
  {
   "cell_type": "markdown",
   "metadata": {},
   "source": [
    "### Python Variables\n",
    "\n",
    "Variables in programming are symbolic names given to some known or unknown quantity or information that may vary. They act as containers for storing data values that can be manipulated and referenced in a program. Here are some key points about variables:\n",
    "\n",
    "1. **Declaration**: Before using a variable, it needs to be declared. This involves specifying the variable's name and its data type. For example, in languages like Python or JavaScript, you can declare a variable like this:\n",
    "\n",
    "   ```python\n",
    "   x = 5\n",
    "   ```\n",
    "\n",
    "2. **Assignment**: Assigning a value to a variable is done using the assignment operator (`=`). After declaring a variable, you can assign a value to it like this:\n",
    "\n",
    "   ```python\n",
    "   x = 5\n",
    "   ```\n",
    "\n",
    "3. **Data Types**: Variables can hold different types of data, such as integers, floating-point numbers, strings, boolean values, arrays, objects, etc. The data type usually determines the kind of operations that can be performed on the variable.\n",
    "   ```python\n",
    "   x = 5        # integer\n",
    "   y = 3.14     # floating-point number\n",
    "   name = \"John\"   # string\n",
    "   is_valid = True  # boolean\n",
    "   ```\n"
   ]
  },
  {
   "cell_type": "markdown",
   "metadata": {},
   "source": [
    "s=5\n",
    "y='john'\n",
    "print(y)\n",
    "print(s)\n"
   ]
  },
  {
   "cell_type": "markdown",
   "metadata": {},
   "source": [
    "Integer (int): Represents whole numbers without any fractional part. For example:\n",
    "\n",
    "```python\n",
    "x=5\n",
    "```\n"
   ]
  },
  {
   "cell_type": "code",
   "execution_count": null,
   "metadata": {},
   "outputs": [],
   "source": [
    "# example\n",
    "s=\"assign_your_value\"\n",
    "print(s)"
   ]
  },
  {
   "cell_type": "markdown",
   "metadata": {},
   "source": [
    "Float (float): Represents numbers with a fractional part. For example:\n",
    "\n",
    "y= 3.14\n"
   ]
  },
  {
   "cell_type": "code",
   "execution_count": null,
   "metadata": {},
   "outputs": [],
   "source": [
    "# example\n",
    "d=\"your_value\"\n",
    "print(d)"
   ]
  },
  {
   "cell_type": "markdown",
   "metadata": {},
   "source": [
    "#### Casting\n",
    "\n",
    "If you want to specify the data type of a variable, this can be done with casting.\n"
   ]
  },
  {
   "cell_type": "code",
   "execution_count": null,
   "metadata": {},
   "outputs": [],
   "source": [
    "x=str(45)\n",
    "y=float(543)\n",
    "z=int(4.26)\n",
    "\n",
    "print(x) # number is convert into string\n",
    "print(y) # flaot value is convert into integer\n",
    "print(z) # integer value is convert into float"
   ]
  },
  {
   "cell_type": "markdown",
   "metadata": {},
   "source": [
    "#### Get the type\n",
    "\n",
    "You can get the data type of a variable with the type() function.\n"
   ]
  },
  {
   "cell_type": "code",
   "execution_count": null,
   "metadata": {},
   "outputs": [],
   "source": [
    "y=545\n",
    "s=7.326\n",
    "t=\"hello python\"\n",
    "\n",
    "print(type(s))\n",
    "print(type(y))\n",
    "print(type(t))"
   ]
  },
  {
   "cell_type": "markdown",
   "metadata": {},
   "source": [
    "### Python Data Types\n",
    "\n",
    "Built-in Data Types\n",
    "In programming, data type is an important concept.\n",
    "\n",
    "Variables can store data of different types, and different types can do different things.\n",
    "\n",
    "Python has the following data types built-in by default, in these categories:\n",
    "\n",
    "- Text Type: str\n",
    "- Numeric Types: int, float, complex\n",
    "- Sequence Types: list, tuple, range\n",
    "- Mapping Type: dict\n",
    "- Set Types: set, frozenset\n",
    "- Boolean Type: bool\n",
    "- Binary Types: bytes, bytearray, memoryview\n",
    "- None Type: NoneType\n"
   ]
  },
  {
   "cell_type": "markdown",
   "metadata": {},
   "source": [
    "_Text type_\n"
   ]
  },
  {
   "cell_type": "code",
   "execution_count": null,
   "metadata": {},
   "outputs": [],
   "source": [
    "s='dhfgsh'\n",
    "print(s)\n",
    "print(type(s))"
   ]
  },
  {
   "cell_type": "markdown",
   "metadata": {},
   "source": [
    "_Numeric Types_\n"
   ]
  },
  {
   "cell_type": "code",
   "execution_count": null,
   "metadata": {},
   "outputs": [],
   "source": [
    "s=455 #integer\n",
    "t=66.62 #float\n",
    "y=4-6j  #complex_number\n",
    "\n",
    "print(s)\n",
    "print(t)\n",
    "print(y)\n",
    "\n",
    "\n",
    "print(type(s))\n",
    "print(type(t))\n",
    "print(type(y))"
   ]
  },
  {
   "cell_type": "markdown",
   "metadata": {},
   "source": [
    "_Sequence Types_\n"
   ]
  },
  {
   "cell_type": "code",
   "execution_count": null,
   "metadata": {},
   "outputs": [],
   "source": [
    "\n",
    "s=['apple',45,'sdjsb',5454] #list\n",
    "print(s)\n",
    "print(type(s))\n",
    "\n",
    "\n",
    "j=(45,'sdfs',45)  #tuple\n",
    "print(j)\n",
    "print(type(j))\n",
    "\n",
    "h=range(1000)  #range\n",
    "print(h)\n",
    "print(type(h))\n",
    "\n",
    "\n"
   ]
  },
  {
   "cell_type": "markdown",
   "metadata": {},
   "source": [
    "_Mapping Function_\n"
   ]
  },
  {
   "cell_type": "code",
   "execution_count": null,
   "metadata": {},
   "outputs": [],
   "source": [
    "t={\"text_generation_ai_models\":\"chatgpt\",\n",
    "   \"image_generation_ai_models\":\"midjourney\",\n",
    "   \"daigram_based_ai_models\":\"Diagram_models\"} # Dictionary\n",
    "\n",
    "print(t)\n",
    "\n",
    "print(type(t))"
   ]
  },
  {
   "cell_type": "markdown",
   "metadata": {},
   "source": [
    "_Set Types_\n"
   ]
  },
  {
   "cell_type": "code",
   "execution_count": null,
   "metadata": {},
   "outputs": [],
   "source": [
    "d={45,44,45,221,4,\"apple\"}  #Set \n",
    "print(d) \n",
    "print(type(d))\n",
    "\n",
    "F=frozenset({45,'dnjs','sknd',45}) #frozenset\n",
    "print(F)\n",
    "print(type(F))\n"
   ]
  },
  {
   "cell_type": "markdown",
   "metadata": {},
   "source": [
    "_Boolean Type_\n"
   ]
  },
  {
   "cell_type": "code",
   "execution_count": null,
   "metadata": {},
   "outputs": [],
   "source": [
    "s=True    #Boolean value ->Bool\n",
    "print(s)\n",
    "print(type(s))"
   ]
  },
  {
   "cell_type": "markdown",
   "metadata": {},
   "source": [
    "_Binary types_\n"
   ]
  },
  {
   "cell_type": "code",
   "execution_count": null,
   "metadata": {},
   "outputs": [],
   "source": [
    "my_bytes = b'Hello' #bytes\n",
    "my_string = my_bytes.decode('utf-8')  # Converts bytes to string\n",
    "new_bytes = my_string.encode('utf-8')# Converts string back to bytes\n",
    "print(new_bytes)\n",
    "print(my_string)\n",
    "\n",
    "\n",
    "v=bytearray(45) #bytesarray\n",
    "print(v)\n",
    "\n",
    "\n",
    "g=memoryview(bytes(45))\n",
    "print(g)"
   ]
  },
  {
   "cell_type": "markdown",
   "metadata": {},
   "source": [
    "_None Type_\n"
   ]
  },
  {
   "cell_type": "code",
   "execution_count": null,
   "metadata": {},
   "outputs": [],
   "source": [
    "x= None #Nonetype -> None\n",
    "\n",
    "print(x)"
   ]
  },
  {
   "cell_type": "markdown",
   "metadata": {},
   "source": [
    "| Data Type  | Mutability | Examples                   | Importance                                                        |\n",
    "| ---------- | ---------- | -------------------------- | ----------------------------------------------------------------- |\n",
    "| str        | Immutable  | \"hello\", 'Python'          | Immutability ensures string values remain unchanged.              |\n",
    "| int        | Immutable  | 5, 100                     | Immutable integers are used for numerical computations.           |\n",
    "| float      | Immutable  | 3.14, 2.0                  | Immutable floats represent floating-point numbers.                |\n",
    "| complex    | Immutable  | 3+4j, 1-2j                 | Immutable complex numbers represent real and imaginary parts.     |\n",
    "| tuple      | Immutable  | (1, 2, 3), ('a', 'b', 'c') | Immutable tuples are useful for fixed-size collections.           |\n",
    "| frozenset  | Immutable  | frozenset({1, 2, 3})       | Immutable sets are used when the set's content should not change. |\n",
    "| bytes      | Immutable  | b'hello', bytes([1, 2, 3]) | Immutable bytes are used for handling binary data.                |\n",
    "| NoneType   | Immutable  | None                       | Immutable NoneType represents absence of a value.                 |\n",
    "| list       | Mutable    | [1, 2, 3], ['a', 'b', 'c'] | Mutable lists allow for dynamic data manipulation.                |\n",
    "| dict       | Mutable    | {'key': 'value', 1: 'one'} | Mutable dictionaries store key-value pairs.                       |\n",
    "| set        | Mutable    | {1, 2, 3}, {'a', 'b', 'c'} | Mutable sets allow for unique collections with fast lookup.       |\n",
    "| bytearray  | Mutable    | bytearray(b'hello')        | Mutable bytearrays are used for mutable binary data.              |\n",
    "| memoryview | Mutable    | memoryview(b'hello')       | Mutable memoryviews allow for efficient access to memory.         |\n"
   ]
  },
  {
   "cell_type": "markdown",
   "metadata": {},
   "source": [
    "## Python Strings\n"
   ]
  },
  {
   "cell_type": "markdown",
   "metadata": {},
   "source": [
    "_Strings_\n",
    "Strings in python are surrounded by either single quotation marks, or double quotation marks.\n",
    "\n",
    "'name' is the same as \"myname\".\n",
    "\n",
    "You can display a string literal with the print() function:\n"
   ]
  },
  {
   "cell_type": "code",
   "execution_count": null,
   "metadata": {},
   "outputs": [],
   "source": [
    "#single assign string to a variable\n",
    "a='hello'\n",
    "print(a)\n",
    "\n",
    "#Multiline assign strings to a variable\n",
    "c=\"\"\"Lorem ipsum dolor sit amet,  \n",
    "consectetur adipiscing elit,\n",
    "sed do eiusmod tempor incididunt\n",
    "ut labore et dolore magna aliqua.\"\"\"\n",
    "\n",
    "print(c)"
   ]
  },
  {
   "cell_type": "markdown",
   "metadata": {},
   "source": [
    "_string Length_\n",
    "\n",
    "To get the length of a string, use the len() function.\n"
   ]
  },
  {
   "cell_type": "code",
   "execution_count": null,
   "metadata": {},
   "outputs": [],
   "source": [
    "a=\"poda patti\"\n",
    "print(len(a))"
   ]
  },
  {
   "cell_type": "markdown",
   "metadata": {},
   "source": [
    "_Check String_\n",
    "\n",
    "To check if a certain phrase or character is present in a string, we can use the keyword in.\n"
   ]
  },
  {
   "cell_type": "code",
   "execution_count": null,
   "metadata": {},
   "outputs": [],
   "source": [
    "df=\"btech sucks my life\"\n",
    "\n",
    "print(\"sucks\" in df)"
   ]
  },
  {
   "cell_type": "markdown",
   "metadata": {},
   "source": [
    "_Check or not_\n",
    "\n",
    "To check if a certain phrase or character is NOT present in a string, we can use the keyword not in.\n"
   ]
  },
  {
   "cell_type": "code",
   "execution_count": null,
   "metadata": {},
   "outputs": [],
   "source": [
    "df=\"The best things in life are free\"\n",
    "print(\"free\" not in df)"
   ]
  },
  {
   "cell_type": "markdown",
   "metadata": {},
   "source": [
    "_Slicing_\n",
    "\n",
    "You can return a range of characters by using the slice syntax.\n",
    "\n",
    "Specify the start index and the end index, separated by a colon, to return a part of the string.\n",
    "\n",
    "Note:The first character has index 0.\n"
   ]
  },
  {
   "cell_type": "code",
   "execution_count": 23,
   "metadata": {},
   "outputs": [
    {
     "name": "stdout",
     "output_type": "stream",
     "text": [
      "o\n"
     ]
    }
   ],
   "source": [
    "g=\"hello guys\"\n",
    "\n",
    "print(g[4:5])\n",
    "print(g[:5])\n",
    "print(g[8:])"
   ]
  },
  {
   "cell_type": "markdown",
   "metadata": {},
   "source": [
    "_Negative Indexing_\n",
    "\n",
    "Use negative indexes to start the slice from the end of the string:\n"
   ]
  },
  {
   "cell_type": "code",
   "execution_count": null,
   "metadata": {},
   "outputs": [],
   "source": [
    "f=\"  homies arrived at hood   \" #reverse order of slicing\n",
    "\n",
    "print(f[-5:-2])"
   ]
  },
  {
   "cell_type": "markdown",
   "metadata": {},
   "source": [
    "_Upper Case_\n",
    "\n",
    "The upper() method returns the string in upper case:\n"
   ]
  },
  {
   "cell_type": "code",
   "execution_count": null,
   "metadata": {},
   "outputs": [],
   "source": [
    "print(f.upper())"
   ]
  },
  {
   "cell_type": "markdown",
   "metadata": {},
   "source": [
    "_Lower case_\n",
    "\n",
    "The lower() method returns the string in lower case:\n"
   ]
  },
  {
   "cell_type": "code",
   "execution_count": null,
   "metadata": {},
   "outputs": [],
   "source": [
    "print(f.lower())"
   ]
  },
  {
   "cell_type": "markdown",
   "metadata": {},
   "source": [
    "_Remove Whitespace_\n",
    "\n",
    "Whitespace is the space before and/or after the actual text, and very often you want to remove this space.\n"
   ]
  },
  {
   "cell_type": "code",
   "execution_count": null,
   "metadata": {},
   "outputs": [],
   "source": [
    "print(f.strip())"
   ]
  },
  {
   "cell_type": "markdown",
   "metadata": {},
   "source": [
    "_Replace String_\n",
    "\n",
    "The replace() method replaces a string with another string:\n"
   ]
  },
  {
   "cell_type": "code",
   "execution_count": null,
   "metadata": {},
   "outputs": [],
   "source": [
    "a = \"Hello, World!\"\n",
    "print(a.replace(\"H\", \"J\"))"
   ]
  },
  {
   "cell_type": "markdown",
   "metadata": {},
   "source": [
    "_Split string_\n",
    "\n",
    "The split() method splits the string into substrings if it finds instances of the separator:\n"
   ]
  },
  {
   "cell_type": "code",
   "execution_count": 44,
   "metadata": {},
   "outputs": [
    {
     "name": "stdout",
     "output_type": "stream",
     "text": [
      "['south north west']\n"
     ]
    }
   ],
   "source": [
    "a=\"south north west\"\n",
    "print(a.split(\" \"))"
   ]
  },
  {
   "cell_type": "markdown",
   "metadata": {},
   "source": [
    "_String Concatenation_\n",
    "\n",
    "To concatenate, or combine, two strings you can use the + operator.\n"
   ]
  },
  {
   "cell_type": "code",
   "execution_count": null,
   "metadata": {},
   "outputs": [],
   "source": [
    "a = \"Hello\"\n",
    "b = \"World\"\n",
    "c = a + \" \" + b\n",
    "print(c)"
   ]
  },
  {
   "cell_type": "markdown",
   "metadata": {},
   "source": [
    "_String Format_\n",
    "\n",
    "- The format() method takes the passed arguments, formats them, and places them in the string where the placeholders {}\n",
    "-\n"
   ]
  },
  {
   "cell_type": "code",
   "execution_count": 3,
   "metadata": {},
   "outputs": [
    {
     "name": "stdout",
     "output_type": "stream",
     "text": [
      "my name is alan, and I am 22 years old\n"
     ]
    }
   ],
   "source": [
    "age=22\n",
    "name=\"alan\"\n",
    "txt=\"my name is {}, and I am {} years old\"\n",
    "\n",
    "print(txt.format(name,age))"
   ]
  },
  {
   "cell_type": "markdown",
   "metadata": {},
   "source": [
    "_String Methods_\n",
    "\n",
    "| Method         | Description                                                                                   |\n",
    "| -------------- | --------------------------------------------------------------------------------------------- |\n",
    "| capitalize()   | Converts the first character to upper case                                                    |\n",
    "| casefold()     | Converts string into lower case                                                               |\n",
    "| center()       | Returns a centered string                                                                     |\n",
    "| count()        | Returns the number of times a specified value occurs in a string                              |\n",
    "| encode()       | Returns an encoded version of the string                                                      |\n",
    "| endswith()     | Returns true if the string ends with the specified value                                      |\n",
    "| expandtabs()   | Sets the tab size of the string                                                               |\n",
    "| find()         | Searches the string for a specified value and returns the position of where it was found      |\n",
    "| format()       | Formats specified values in a string                                                          |\n",
    "| format_map()   | Formats specified values in a string                                                          |\n",
    "| index()        | Searches the string for a specified value and returns the position of where it was found      |\n",
    "| isalnum()      | Returns True if all characters in the string are alphanumeric                                 |\n",
    "| isalpha()      | Returns True if all characters in the string are in the alphabet                              |\n",
    "| isascii()      | Returns True if all characters in the string are ascii characters                             |\n",
    "| isdecimal()    | Returns True if all characters in the string are decimals                                     |\n",
    "| isdigit()      | Returns True if all characters in the string are digits                                       |\n",
    "| isidentifier() | Returns True if the string is an identifier                                                   |\n",
    "| islower()      | Returns True if all characters in the string are lower case                                   |\n",
    "| isnumeric()    | Returns True if all characters in the string are numeric                                      |\n",
    "| isprintable()  | Returns True if all characters in the string are printable                                    |\n",
    "| isspace()      | Returns True if all characters in the string are whitespaces                                  |\n",
    "| istitle()      | Returns True if the string follows the rules of a title                                       |\n",
    "| isupper()      | Returns True if all characters in the string are upper case                                   |\n",
    "| join()         | Joins the elements of an iterable to the end of the string                                    |\n",
    "| ljust()        | Returns a left justified version of the string                                                |\n",
    "| lower()        | Converts a string into lower case                                                             |\n",
    "| lstrip()       | Returns a left trim version of the string                                                     |\n",
    "| maketrans()    | Returns a translation table to be used in translations                                        |\n",
    "| partition()    | Returns a tuple where the string is parted into three parts                                   |\n",
    "| replace()      | Returns a string where a specified value is replaced with a specified value                   |\n",
    "| rfind()        | Searches the string for a specified value and returns the last position of where it was found |\n",
    "| rindex()       | Searches the string for a specified value and returns the last position of where it was found |\n",
    "| rjust()        | Returns a right justified version of the string                                               |\n",
    "| rpartition()   | Returns a tuple where the string is parted into three parts                                   |\n",
    "| rsplit()       | Splits the string at the specified separator, and returns a list                              |\n",
    "| rstrip()       | Returns a right trim version of the string                                                    |\n",
    "| split()        | Splits the string at the specified separator, and returns a list                              |\n",
    "| splitlines()   | Splits the string at line breaks and returns a list                                           |\n",
    "| startswith()   | Returns true if the string starts with the specified value                                    |\n",
    "| strip()        | Returns a trimmed version of the string                                                       |\n",
    "| swapcase()     | Swaps cases, lower case becomes upper case and vice versa                                     |\n",
    "| title()        | Converts the first character of each word to upper case                                       |\n",
    "| translate()    | Returns a translated string                                                                   |\n",
    "| upper()        | Converts a string into upper case                                                             |\n",
    "| zfill()        | Fills the string with a specified number of 0 values at the beginning                         |\n"
   ]
  },
  {
   "cell_type": "markdown",
   "metadata": {},
   "source": [
    "<br>\n"
   ]
  },
  {
   "cell_type": "markdown",
   "metadata": {},
   "source": [
    "## Python Operators\n"
   ]
  },
  {
   "cell_type": "markdown",
   "metadata": {},
   "source": [
    "Python divides the operators in the following groups:\n",
    "\n",
    "- Arithmetic operators\n",
    "- Assignment operators\n",
    "- Comparison operators\n",
    "- Logical operators\n",
    "- Identity operators\n",
    "- Membership operators\n",
    "- Bitwise operators\n"
   ]
  },
  {
   "cell_type": "markdown",
   "metadata": {},
   "source": [
    "| Operator | Name           | Example  |\n",
    "| -------- | -------------- | -------- |\n",
    "| +        | Addition       | x + y    |\n",
    "| -        | Subtraction    | x - y    |\n",
    "| \\*       | Multiplication | x \\* y   |\n",
    "| /        | Division       | x / y    |\n",
    "| %        | Modulus        | x % y    |\n",
    "| \\*\\*     | Exponentiation | x \\*\\* y |\n",
    "| //       | Floor division | x // y   |\n"
   ]
  },
  {
   "cell_type": "markdown",
   "metadata": {},
   "source": [
    "_Python Assignment Operators_\n",
    "\n",
    "| Operator | Example   | Same As      |\n",
    "| -------- | --------- | ------------ | --- | ----- | --- |\n",
    "| =        | x = 5     | x = 5        |\n",
    "| +=       | x += 3    | x = x + 3    |\n",
    "| -=       | x -= 3    | x = x - 3    |\n",
    "| \\*=      | x \\*= 3   | x = x \\* 3   |\n",
    "| /=       | x /= 3    | x = x / 3    |\n",
    "| %=       | x %= 3    | x = x % 3    |\n",
    "| //=      | x //= 3   | x = x // 3   |\n",
    "| \\*\\*=    | x \\*\\*= 3 | x = x \\*\\* 3 |\n",
    "| &=       | x &= 3    | x = x & 3    |\n",
    "|          | =         | x            | = 3 | x = x | 3   |\n",
    "| ^=       | x ^= 3    | x = x ^ 3    |\n",
    "| >>=      | x >>= 3   | x = x >> 3   |\n",
    "| <<=      | x <<= 3   | x = x << 3   |\n"
   ]
  },
  {
   "cell_type": "markdown",
   "metadata": {},
   "source": [
    "_Python Comparison Operators_\n",
    "\n",
    "| Operator | Name                     | Example |\n",
    "| -------- | ------------------------ | ------- |\n",
    "| ==       | Equal                    | x == y  |\n",
    "| !=       | Not equal                | x != y  |\n",
    "| >        | Greater than             | x > y   |\n",
    "| <        | Less than                | x < y   |\n",
    "| >=       | Greater than or equal to | x >= y  |\n",
    "| <=       | Less than or equal to    | x <= y  |\n"
   ]
  },
  {
   "cell_type": "markdown",
   "metadata": {},
   "source": [
    "_Python Logical Operators_\n",
    "\n",
    "| Operator | Description                                             | Example               |\n",
    "| -------- | ------------------------------------------------------- | --------------------- |\n",
    "| and      | Returns True if both statements are true                | x < 5 and x < 10      |\n",
    "| or       | Returns True if one of the statements is true           | x < 5 or x < 4        |\n",
    "| not      | Reverse the result, returns False if the result is true | not(x < 5 and x < 10) |\n"
   ]
  },
  {
   "cell_type": "markdown",
   "metadata": {},
   "source": [
    "_Python Identity Operators_\n",
    "\n",
    "Identity operators are used to compare the objects, not if they are equal, but if they are actually the same object, with the same memory location:\n",
    "\n",
    "| Operator | Description                                         | Example      | \n",
    "|----------|-----------------------------------------------------|--------------|\n",
    "| is       | Returns True if both variables are the same object  | x is y       |         \n",
    "| is not   | Returns True if both variables are not the same object | x is not y |         \n"
   ]
  },
  {
   "cell_type": "markdown",
   "metadata": {},
   "source": [
    "*Python Membership Operators*\n",
    "\n",
    "Membership operators are used to test if a sequence is presented in an object:\n",
    "\n",
    "| Operator | Description                                                | Example       | \n",
    "|----------|------------------------------------------------------------|---------------|\n",
    "| in       | Returns True if a sequence with the specified value is present in the object | x in y |         \n",
    "| not in   | Returns True if a sequence with the specified value is not present in the object | x not in y |    \n"
   ]
  },
  {
   "cell_type": "markdown",
   "metadata": {},
   "source": [
    "*Python Bitwise Operators*\n",
    "\n",
    "Bitwise operators are used to compare (binary) number:\n",
    "\n",
    "| Operator | Name           | Description                                                                                  | Example   | \n",
    "|----------|----------------|----------------------------------------------------------------------------------------------|-----------|\n",
    "| &        | AND            | Sets each bit to 1 if both bits are 1                                                         | x & y     |         \n",
    "| \\|       | OR             | Sets each bit to 1 if one of two bits is 1                                                    | x \\| y    |         \n",
    "| ^        | XOR            | Sets each bit to 1 if only one of two bits is 1                                                | x ^ y     |         \n",
    "| ~        | NOT            | Inverts all the bits                                                                         | ~x        |         \n",
    "| <<       | Zero fill left shift | Shift left by pushing zeros in from the right and let the leftmost bits fall off           | x << 2    |         \n",
    "| >>       | Signed right shift   | Shift right by pushing copies of the leftmost bit in from the left, and let the rightmost bits fall off | x >> 2 |         \n"
   ]
  },
  {
   "cell_type": "markdown",
   "metadata": {},
   "source": [
    "*Operator Precedence*\n",
    "\n",
    "The precedence order is described in the table below, starting with the highest precedence at the top:\n",
    "\n",
    "\n",
    "| Operator | Description                                             | Example   | \n",
    "|----------|---------------------------------------------------------|-----------|\n",
    "| ()       | Parentheses                                             |           |         \n",
    "| **       | Exponentiation                                          |           |         \n",
    "| +x -x ~x | Unary plus, unary minus, and bitwise NOT                |           |         \n",
    "| * / // % | Multiplication, division, floor division, and modulus   |           |        \n",
    "| + -      | Addition and subtraction                                |           |         \n",
    "| << >>    | Bitwise left and right shifts                           |           |         \n",
    "| &        | Bitwise AND                                             |           |         \n",
    "| ^        | Bitwise XOR                                             |           |         \n",
    "| \\|       | Bitwise OR                                              |           |         \n",
    "| == != > >= < <= is is not in not in | Comparisons, identity, and membership operators | | \n",
    "| not      | Logical NOT                                             |           |         \n",
    "| and      | AND                                                     |           |         \n",
    "| or       | OR                                                      |           |         \n"
   ]
  },
  {
   "cell_type": "markdown",
   "metadata": {},
   "source": [
    "## Python List\n",
    "\n",
    "\n",
    "\n",
    "- Lists are used to store multiple items in a single variable.\n",
    "\n",
    "- Lists are one of 4 built-in data types in Python used to store collections of data, the other 3 are Tuple, Set, and Dictionary, all with different qualities and usage.\n",
    "\n",
    "- Lists are created using square brackets:"
   ]
  },
  {
   "cell_type": "code",
   "execution_count": 1,
   "metadata": {},
   "outputs": [
    {
     "name": "stdout",
     "output_type": "stream",
     "text": [
      "['hai', 'yo', 'hey']\n"
     ]
    }
   ],
   "source": [
    "# create a list \n",
    "\n",
    "hello=['hai','yo','hey']\n",
    "\n",
    "print(hello)"
   ]
  }
 ],
 "metadata": {
  "kernelspec": {
   "display_name": "Python 3",
   "language": "python",
   "name": "python3"
  },
  "language_info": {
   "codemirror_mode": {
    "name": "ipython",
    "version": 3
   },
   "file_extension": ".py",
   "mimetype": "text/x-python",
   "name": "python",
   "nbconvert_exporter": "python",
   "pygments_lexer": "ipython3",
   "version": "3.11.5"
  }
 },
 "nbformat": 4,
 "nbformat_minor": 2
}
